{
 "cells": [
  {
   "cell_type": "markdown",
   "metadata": {},
   "source": [
    "# MNIST 实践"
   ]
  },
  {
   "cell_type": "code",
   "execution_count": 6,
   "metadata": {},
   "outputs": [],
   "source": [
    "# 导入依赖\n",
    "import os\n",
    "\n",
    "import numpy as np\n",
    "import torch\n",
    "import torch.nn.functional as F\n",
    "from matplotlib import pyplot as plt\n",
    "from torch.utils.data import Dataset\n",
    "from torch.utils.data import DataLoader\n",
    "from torchvision import datasets, transforms"
   ]
  },
  {
   "cell_type": "code",
   "execution_count": 4,
   "metadata": {},
   "outputs": [],
   "source": [
    "# 定义超参数\n",
    "batch_size = 64\n",
    "learning_rate = 0.01\n",
    "momentum = 0.5\n",
    "EPOCH = 10"
   ]
  },
  {
   "cell_type": "code",
   "execution_count": 15,
   "metadata": {},
   "outputs": [],
   "source": [
    "# 自定义数据集\n",
    "from PIL import Image\n",
    "class MnistDataset(Dataset):\n",
    "  def __init__(self, transform=None, path=None):\n",
    "    self.path = path\n",
    "    self.data = os.listdir(self.path)\n",
    "    self.transform = transform\n",
    "    self.len = len(self.data)\n",
    "\n",
    "  def __getitem__(self, index):\n",
    "    image_index = self.data[index]\n",
    "    img_path = os.path.join(self.path, image_index)\n",
    "    img = Image.open(img_path)\n",
    "    if self.transform:\n",
    "      img = self.transform(img)\n",
    "\n",
    "    label = int(image_index[-5])\n",
    "    # label = self.oneHot(label)\n",
    "    return img, label\n",
    "\n",
    "  def __len__(self):\n",
    "    return self.len\n",
    "\n",
    "  # 将标签转为onehot编码\n",
    "  def oneHot(self, label):\n",
    "    tem = np.zeros(10)\n",
    "    tem[label] = 1\n",
    "    return torch.from_numpy(tem)"
   ]
  },
  {
   "cell_type": "code",
   "execution_count": 9,
   "metadata": {},
   "outputs": [],
   "source": [
    "# 预处理数据集\n",
    "transform = transforms.Compose([transforms.ToTensor(), transforms.Normalize((0.1307,), (0.3081,))])\n",
    "# softmax归一化指数函数(https://blog.csdn.net/lz_peter/article/details/84574716),其中0.1307是mean均值和0.3081是std标准差\n",
    "\n",
    "# 使用 MNIST 数据集\n",
    "# train_dataset = datasets.MNIST(root='./data/mnist', train=True, transform=transform, download=True)  # 本地没有就加上download=True\n",
    "# test_dataset = datasets.MNIST(root='./data/mnist', train=False, transform=transform, download=True)  # train=True训练集，=False测试集\n",
    "# train_loader = DataLoader(train_dataset, batch_size=batch_size, shuffle=True)\n",
    "# test_loader = DataLoader(test_dataset, batch_size=batch_size, shuffle=False)\n",
    "\n",
    "# 自定义数据集\n",
    "train_dataset = MnistDataset(transform=transform, path='./mnist/train')\n",
    "train_loader = DataLoader(train_dataset, batch_size=batch_size, shuffle=True)\n",
    "test_dataset = MnistDataset(transform=transform, path='./mnist/test')\n",
    "test_loader = DataLoader(test_dataset, batch_size=batch_size, shuffle=False)\n",
    "\n",
    "# fig = plt.figure()\n",
    "# for i in range(12):\n",
    "#   plt.subplot(3, 4, i+1)\n",
    "#   plt.tight_layout()\n",
    "#   plt.imshow(train_dataset.train_data[i], cmap='gray', interpolation='none')\n",
    "#   plt.title(\"Labels: {}\".format(train_dataset.train_labels[i]))\n",
    "#   plt.xticks([])\n",
    "#   plt.yticks([])\n",
    "# plt.show()"
   ]
  },
  {
   "cell_type": "code",
   "execution_count": 19,
   "metadata": {},
   "outputs": [],
   "source": [
    "# 定义网络\n",
    "class Net(torch.nn.Module):\n",
    "  def __init__(self):\n",
    "    super(Net, self).__init__()\n",
    "    self.conv1 = torch.nn.Sequential(\n",
    "      torch.nn.Conv2d(1, 10, kernel_size=5),\n",
    "      torch.nn.ReLU(),\n",
    "      torch.nn.MaxPool2d(kernel_size=2),\n",
    "    )\n",
    "    self.conv2 = torch.nn.Sequential(\n",
    "      torch.nn.Conv2d(10, 20, kernel_size=5),\n",
    "      torch.nn.ReLU(),\n",
    "      torch.nn.MaxPool2d(kernel_size=2),\n",
    "    )\n",
    "    self.fc = torch.nn.Sequential(\n",
    "      torch.nn.Linear(320, 50),\n",
    "      torch.nn.Linear(50, 10),\n",
    "    )\n",
    "\n",
    "  def forward(self, x):\n",
    "    batch_size = x.size(0)\n",
    "    x = self.conv1(x)  # 一层卷积层,一层池化层,一层激活层(图是先卷积后激活再池化，差别不大)\n",
    "    x = self.conv2(x)  # 再来一次\n",
    "    x = x.view(batch_size, -1)  # flatten 变成全连接网络需要的输入 (batch, 20,4,4) ==> (batch,320), -1 此处自动算出的是320\n",
    "    x = self.fc(x)\n",
    "    return x  # 最后输出的是维度为10的，也就是（对应数学符号的0~9）\n",
    "\n",
    "model = Net()"
   ]
  },
  {
   "cell_type": "code",
   "execution_count": 11,
   "metadata": {},
   "outputs": [],
   "source": [
    "criterion = torch.nn.CrossEntropyLoss()  # 交叉熵损失\n",
    "optimizer = torch.optim.SGD(model.parameters(), lr=learning_rate, momentum=momentum)  # lr学习率，momentum冲量"
   ]
  },
  {
   "cell_type": "code",
   "execution_count": 12,
   "metadata": {},
   "outputs": [],
   "source": [
    "# 训练\n",
    "def train(epoch):\n",
    "  running_loss = 0.0  # 这整个epoch的loss清零\n",
    "  running_total = 0\n",
    "  running_correct = 0\n",
    "  for batch_idx, data in enumerate(train_loader, 0):\n",
    "    inputs, target = data\n",
    "    optimizer.zero_grad()\n",
    "\n",
    "    # forward + backward + update\n",
    "    outputs = model(inputs)\n",
    "    loss = criterion(outputs, target)\n",
    "\n",
    "    loss.backward()\n",
    "    optimizer.step()\n",
    "\n",
    "    # 把运行中的loss累加起来，为了下面300次一除\n",
    "    running_loss += loss.item()\n",
    "    # 把运行中的准确率acc算出来\n",
    "    _, predicted = torch.max(outputs.data, dim=1)\n",
    "    running_total += inputs.shape[0]\n",
    "    running_correct += (predicted == target).sum().item()\n",
    "\n",
    "    if batch_idx % 300 == 299:  # 不想要每一次都出loss，浪费时间，选择每300次出一个平均损失,和准确率\n",
    "      print('[%d, %5d]: loss: %.3f , acc: %.2f %%'\n",
    "            % (epoch + 1, batch_idx + 1, running_loss / 300, 100 * running_correct / running_total))\n",
    "      running_loss = 0.0  # 这小批300的loss清零\n",
    "      running_total = 0\n",
    "      running_correct = 0  # 这小批300的acc清零\n",
    "\n",
    "    # torch.save(model.state_dict(), './model_Mnist.pth')\n",
    "    # torch.save(optimizer.state_dict(), './optimizer_Mnist.pth')"
   ]
  },
  {
   "cell_type": "code",
   "execution_count": 13,
   "metadata": {},
   "outputs": [],
   "source": [
    "# 测试\n",
    "def test():\n",
    "  correct = 0\n",
    "  total = 0\n",
    "  with torch.no_grad():  # 测试集不用算梯度\n",
    "    for data in test_loader:\n",
    "      images, labels = data\n",
    "      outputs = model(images)\n",
    "      _, predicted = torch.max(outputs.data, dim=1)  # dim = 1 列是第0个维度，行是第1个维度，沿着行(第1个维度)去找1.最大值和2.最大值的下标\n",
    "      total += labels.size(0)  # 张量之间的比较运算\n",
    "      correct += (predicted == labels).sum().item()\n",
    "  acc = correct / total\n",
    "  print('[%d / %d]: Accuracy on test set: %.1f %% ' % (epoch+1, EPOCH, 100 * acc))  # 求测试的准确率，正确数/总数\n",
    "  return acc"
   ]
  },
  {
   "cell_type": "code",
   "execution_count": 16,
   "metadata": {},
   "outputs": [
    {
     "name": "stdout",
     "output_type": "stream",
     "text": [
      "[1 / 10]: Accuracy on test set: 68.5 % \n",
      "[2 / 10]: Accuracy on test set: 88.6 % \n",
      "[3 / 10]: Accuracy on test set: 92.5 % \n",
      "[4 / 10]: Accuracy on test set: 92.4 % \n",
      "[5 / 10]: Accuracy on test set: 93.4 % \n",
      "[6 / 10]: Accuracy on test set: 93.9 % \n",
      "[7 / 10]: Accuracy on test set: 95.0 % \n",
      "[8 / 10]: Accuracy on test set: 93.5 % \n",
      "[9 / 10]: Accuracy on test set: 95.1 % \n",
      "[10 / 10]: Accuracy on test set: 96.1 % \n"
     ]
    },
    {
     "data": {
      "image/png": "[encoded data removed]",
      "text/plain": [
       "<Figure size 432x288 with 1 Axes>"
      ]
     },
     "metadata": {
      "needs_background": "light"
     },
     "output_type": "display_data"
    }
   ],
   "source": [
    "if __name__ == '__main__':\n",
    "  acc_list_test = []\n",
    "  for epoch in range(EPOCH):\n",
    "    train(epoch)\n",
    "    # if epoch % 10 == 9:  #每训练10轮 测试1次\n",
    "    acc_test = test()\n",
    "    acc_list_test.append(acc_test)\n",
    "\n",
    "  plt.plot(acc_list_test)\n",
    "  plt.xlabel('Epoch')\n",
    "  plt.ylabel('Accuracy On TestSet')\n",
    "  plt.show()"
   ]
  }
 ],
 "metadata": {
  "kernelspec": {
   "display_name": "Python 3.7.0 ('base')",
   "language": "python",
   "name": "python3"
  },
  "language_info": {
   "codemirror_mode": {
    "name": "ipython",
    "version": 3
   },
   "file_extension": ".py",
   "mimetype": "text/x-python",
   "name": "python",
   "nbconvert_exporter": "python",
   "pygments_lexer": "ipython3",
   "version": "3.7.0"
  },
  "orig_nbformat": 4,
  "vscode": {
   "interpreter": {
    "hash": "aa626c12245a67512840b3cbaf0cae59291798977c30804492c558ce3d5f8947"
   }
  }
 },
 "nbformat": 4,
 "nbformat_minor": 2
}
